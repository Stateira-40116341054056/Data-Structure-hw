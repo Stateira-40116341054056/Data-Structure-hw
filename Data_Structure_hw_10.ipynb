{
  "nbformat": 4,
  "nbformat_minor": 0,
  "metadata": {
    "colab": {
      "provenance": []
    },
    "kernelspec": {
      "name": "python3",
      "display_name": "Python 3"
    },
    "language_info": {
      "name": "python"
    }
  },
  "cells": [
    {
      "cell_type": "code",
      "execution_count": null,
      "metadata": {
        "colab": {
          "base_uri": "https://localhost:8080/"
        },
        "id": "jj4IFpQcQaWV",
        "outputId": "2336f7c7-9213-4d1b-b451-c10f12e646f3"
      },
      "outputs": [
        {
          "output_type": "stream",
          "name": "stdout",
          "text": [
            "0  1  1  0  \n",
            "1  0  1  0  \n",
            "1  1  0  1  \n",
            "0  0  1  0  \n"
          ]
        }
      ],
      "source": [
        "class Graph:\n",
        "\n",
        "  def __init__(self, n=3):\n",
        "    self.size = n\n",
        "    self. M = []\n",
        "    for _ in range(n):\n",
        "      self.M.append([0 for i in range(n)])\n",
        "\n",
        "  def add_edge(self, v1, v2):\n",
        "    self.M[v1][v2] = 1\n",
        "    self.M[v2][v1] = 1\n",
        "\n",
        "  def display(self):\n",
        "    for i in range(self.size):\n",
        "      for j in range(self.size):\n",
        "        print(self.M[i][j], end = '  ')\n",
        "      print()\n",
        "\n",
        "g = Graph(4)\n",
        "g.add_edge(0,1)\n",
        "g.add_edge(0,2)\n",
        "g.add_edge(1,2)\n",
        "g.add_edge(2,3)\n",
        "g.display()\n",
        "\n",
        "\n"
      ]
    }
  ]
}