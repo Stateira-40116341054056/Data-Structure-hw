{
  "nbformat": 4,
  "nbformat_minor": 0,
  "metadata": {
    "colab": {
      "provenance": []
    },
    "kernelspec": {
      "name": "python3",
      "display_name": "Python 3"
    },
    "language_info": {
      "name": "python"
    }
  },
  "cells": [
    {
      "cell_type": "code",
      "execution_count": 2,
      "metadata": {
        "colab": {
          "base_uri": "https://localhost:8080/"
        },
        "id": "CqyOqqBgNIfz",
        "outputId": "789db6cc-0e57-4c3f-a118-6cde7f90e2e2"
      },
      "outputs": [
        {
          "output_type": "stream",
          "name": "stdout",
          "text": [
            "Inorder traversal of the BST Tree\n",
            "20\n",
            "30\n",
            "40\n",
            "50\n",
            "60\n",
            "70\n",
            "80\n",
            "\n",
            " Minimum Value in BST: 20\n",
            "\n",
            " Node with Minimum Key in BST: 20\n"
          ]
        }
      ],
      "source": [
        "class NodeBST:\n",
        "\n",
        "  def __init__(self, data):\n",
        "    self.key = data\n",
        "    self.left = None\n",
        "    self.right = None\n",
        "\n",
        "class Btree:\n",
        "\n",
        "  def __init__(self, root=None):\n",
        "    self.root = root\n",
        "\n",
        "  def inorder(self, root):\n",
        "    if root is None:\n",
        "      return\n",
        "    else:\n",
        "      self.inorder(root.left)\n",
        "      print(root.key)\n",
        "      self.inorder(root.right)\n",
        "\n",
        "  def SearchBST(self, root, k):\n",
        "    if root is None or root.key == k:\n",
        "      return root\n",
        "    elif k > root.key:\n",
        "      return self.SearchBST(root.right, k)\n",
        "    else:\n",
        "      return self.SearchBST(root.left, k)\n",
        "\n",
        "  def InsertBST(self, root, k):\n",
        "    if root is None:\n",
        "      return NodeBST(k)\n",
        "    elif k < root.key:\n",
        "      root.left = self.InsertBST(root.left, k)\n",
        "    else:\n",
        "      root.right = self.InsertBST(root.right, k)\n",
        "    return root\n",
        "\n",
        "  def minvalueBST(self,root):\n",
        "    if root is None:\n",
        "      return root\n",
        "    while root.left is not None:\n",
        "      root = root.left\n",
        "    return root.key\n",
        "\n",
        "  def minNodeBST(self, root):\n",
        "    if root.left is None:\n",
        "        return root\n",
        "    else:\n",
        "        return self.minNodeBST(root.left)\n",
        "\n",
        "\n",
        "# Create a BST tree and insert elements\n",
        "bst = Btree()\n",
        "bst.root = bst.InsertBST(bst.root, 50)\n",
        "bst.InsertBST(bst.root, 30)\n",
        "bst.InsertBST(bst.root, 20)\n",
        "bst.InsertBST(bst.root, 40)\n",
        "bst.InsertBST(bst.root, 70)\n",
        "bst.InsertBST(bst.root, 60)\n",
        "bst.InsertBST(bst.root, 80)\n",
        "\n",
        "# inorder traversal\n",
        "print('Inorder traversal of the BST Tree')\n",
        "bst.inorder(bst.root)\n",
        "\n",
        "# Find the minimum value in the BST\n",
        "min_value = bst.minvalueBST(bst.root)\n",
        "print(\"\\n Minimum Value in BST:\", min_value)\n",
        "\n",
        "# Find the node with the minimum key in the BST\n",
        "min_node = bst.minNodeBST(bst.root)\n",
        "print(\"\\n Node with Minimum Key in BST:\", min_node.key)\n"
      ]
    },
    {
      "cell_type": "code",
      "source": [
        "class NodeHT:\n",
        "\n",
        "  def __init__(self, data):\n",
        "    self.data = data\n",
        "    self.left = None\n",
        "    self.right = None\n",
        "\n",
        "class Htree:\n",
        "\n",
        "  def __init__(self, root=None):\n",
        "    self.root = root\n",
        "\n",
        "  def heapify (self,A,K):                          # (K) و ایندکس نود موردنظر (A) آرایه از دیتاهای درخت هیپ\n",
        "    left = (2*K) + 1                               # یافتن ایندکس فرزند سمت چپ نود\n",
        "    right = (2*K) + 2                              # یافتن ایندکس فرزند سمت راست نود\n",
        "    if left < len(A) and A[left] < A[K]:           #  در صورتی که فرزند سمت چپ وجود داشته باشد و مقدار فرزند از پدر گوچک تر باشد\n",
        "      S = left                                     # مقدار فرزند چپ (کمترین مقدار)را درون متغییر اس بریز\n",
        "    else:                                          # در صرتی که مقدار خود پدر کوچک ترین مقدار بود\n",
        "      S = K                                        # اندیس نود مورد نظر را درون متغییر اس بریز\n",
        "    if right < len(A) and A[right] < A[S] :        # در صورتی که فرزند راست وجود داشته باشد و مقدار فرزند راست از کا کوچک تر باشد\n",
        "      S = right                                    # مقدار اندیس راست را قرار بده (هدف یافتن اندیس کمترین مقدار و قرار دادن آن در متغییر اس هست )\n",
        "    if S != K :                                    # در صورتی که کمترین مقدار نود پدر نبود بدین معناست که آرایه مین هیپ را نمایش نمیدهد\n",
        "      A[K] , A[S] = A[S] , A[K]                    # درنتیجه کمترین مقدار را که درون متغییر اس قرار گرفته را در نود پدر قرار میدهیم\n",
        "      self.heapify(A,S)\n",
        "\n",
        "  def build_min_heap(self,A):                      # در این تابع مقدار اینکس نودهای پدر درخت از پایین به بالا تک تک به درون تابع هیپیفای رفته و مرتب میشوند\n",
        "    n = int((len(A) // 2) - 1)\n",
        "    for K in range(n,-1,-1):\n",
        "      self.heapify(A,K)\n",
        "\n",
        "  def heapify_max(self, A, K):\n",
        "      left = (2 * K) + 1\n",
        "      right = (2 * K) + 2\n",
        "      l = K\n",
        "      if left < len(A) and A[left] > A[K]:\n",
        "         l = left\n",
        "      if right < len(A) and A[right] > A[l]:\n",
        "         l = right\n",
        "      if l != K:\n",
        "         A[K], A[l] = A[l], A[K]\n",
        "         self.heapify_max(A, l)\n",
        "\n",
        "  def build_max_heap(self, A):\n",
        "      n = len(A) // 2 - 1\n",
        "      for k in range(n, -1, -1):\n",
        "        self.heapify_max(A, k)\n",
        "\n",
        "A = [5, 6, 3, 1, 4, 2, 7]\n",
        "hxtree = Htree()\n",
        "hxtree.build_min_heap(A)\n",
        "print('Your min heap tree array = ', A)\n",
        "\n",
        "A2 = [5, 6, 3, 1, 4, 2, 7]\n",
        "hmtree = Htree()\n",
        "hmtree.build_max_heap(A2)\n",
        "print('Your max heap tree array = ', A2)\n",
        "\n"
      ],
      "metadata": {
        "colab": {
          "base_uri": "https://localhost:8080/"
        },
        "id": "r2En9I05MDp6",
        "outputId": "f0654211-e357-4a87-9c54-7d60d86b3a51"
      },
      "execution_count": 2,
      "outputs": [
        {
          "output_type": "stream",
          "name": "stdout",
          "text": [
            "Your min heap tree array =  [1, 4, 2, 6, 5, 3, 7]\n",
            "Your max heap tree array =  [7, 6, 5, 1, 4, 2, 3]\n"
          ]
        }
      ]
    }
  ]
}