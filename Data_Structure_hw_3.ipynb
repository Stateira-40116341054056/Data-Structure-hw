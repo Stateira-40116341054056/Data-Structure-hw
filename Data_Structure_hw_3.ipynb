{
  "nbformat": 4,
  "nbformat_minor": 0,
  "metadata": {
    "colab": {
      "provenance": []
    },
    "kernelspec": {
      "name": "python3",
      "display_name": "Python 3"
    },
    "language_info": {
      "name": "python"
    }
  },
  "cells": [
    {
      "cell_type": "code",
      "execution_count": null,
      "metadata": {
        "colab": {
          "base_uri": "https://localhost:8080/"
        },
        "id": "SHMGp-sUyY5g",
        "outputId": "ad51a071-d93b-40c7-c271-1228bada2b2a"
      },
      "outputs": [
        {
          "output_type": "stream",
          "name": "stdout",
          "text": [
            "56\n",
            "23\n",
            "88\n"
          ]
        },
        {
          "output_type": "execute_result",
          "data": {
            "text/plain": [
              "56"
            ]
          },
          "metadata": {},
          "execution_count": 12
        }
      ],
      "source": [
        "class Queue:\n",
        "\n",
        "  def __init__ (self, k):\n",
        "    self.k = k\n",
        "    self.queue = [None] * k\n",
        "    self.front = -1\n",
        "    self.rear = -1\n",
        "\n",
        "  def disqueue(self):\n",
        "    if self.front == -1:\n",
        "      print('empty')\n",
        "    for i in range(self.front,self.rear+1):\n",
        "      print(self.queue[i])\n",
        "\n",
        "  def insqueue(self, data):\n",
        "    if self.rear == -1:\n",
        "      self.rear = 0\n",
        "      self.front = 0\n",
        "      self.queue[0] = data\n",
        "    elif self.rear + 1 == self.k:\n",
        "      print('is full')\n",
        "    else:\n",
        "      self.rear += 1\n",
        "      self.queue[self.rear] = data\n",
        "\n",
        "  def delqueue(self):\n",
        "    if self.front == -1:\n",
        "      print('empty')\n",
        "    elif self.rear == self.front:\n",
        "      t = self.queue[self.front]\n",
        "      self.rear = -1\n",
        "      self.front = -1\n",
        "      return t\n",
        "    else:\n",
        "      t = self.queue[self.front]\n",
        "      self.front += 1\n",
        "      return t\n",
        "\n",
        "\n",
        "Q = Queue(5)\n",
        "\n",
        "Q.insqueue(56)\n",
        "Q.insqueue(23)\n",
        "Q.insqueue(88)\n",
        "\n",
        "Q.disqueue()\n",
        "\n",
        "Q.delqueue()\n"
      ]
    },
    {
      "cell_type": "code",
      "source": [
        "class Queue_c:\n",
        "\n",
        "  def __init__ (self, k):\n",
        "    self.k = k\n",
        "    self.queue = [None] * k\n",
        "    self.front = -1\n",
        "    self.rear = -1\n",
        "\n",
        "  def disqueue_c(self):\n",
        "    if self.front == -1:\n",
        "      print('empty')\n",
        "    elif self.front < self.rear:\n",
        "      for i in range(self.front,self.rear+1):\n",
        "        print(self.queue[i])\n",
        "    else:\n",
        "      for j in range(self.front,self.k):\n",
        "        print(self.queue[j])\n",
        "      for i in range(self.rear+1):\n",
        "        print(self.queue[i])\n",
        "\n",
        "  def insqueue_c(self, data):\n",
        "    if self.rear == -1:\n",
        "      self.rear = 0\n",
        "      self.front = 0\n",
        "      self.queue[0] = data\n",
        "    elif (self.rear + 1) % self.k == self.front:\n",
        "      print('is full')\n",
        "    else:\n",
        "      self.rear = (self.rear + 1) % self.k\n",
        "      self.queue[self.rear] = data\n",
        "\n",
        "  def delqueue_c(self):\n",
        "    if self.front == -1:\n",
        "      print('empty')\n",
        "    elif self.rear == self.front:\n",
        "      t = self.queue[self.front]\n",
        "      self.rear = -1\n",
        "      self.front = -1\n",
        "      return t\n",
        "    else:\n",
        "      t = self.queue[self.front]\n",
        "      self.front = (self.front + 1) % self.k\n",
        "      return t\n",
        "\n",
        "\n",
        "Q = Queue_c(2)\n",
        "\n",
        "Q.insqueue_c(56)\n",
        "Q.insqueue_c(23)\n",
        "Q.insqueue_c(88)\n",
        "\n",
        "Q.disqueue_c()\n",
        "\n",
        "Q.delqueue_c()\n"
      ],
      "metadata": {
        "colab": {
          "base_uri": "https://localhost:8080/"
        },
        "id": "I8KfFMrLCRU_",
        "outputId": "0b7d8055-2025-4a7c-a07b-cbce40acb720"
      },
      "execution_count": null,
      "outputs": [
        {
          "output_type": "stream",
          "name": "stdout",
          "text": [
            "is full\n",
            "56\n",
            "23\n"
          ]
        },
        {
          "output_type": "execute_result",
          "data": {
            "text/plain": [
              "56"
            ]
          },
          "metadata": {},
          "execution_count": 17
        }
      ]
    }
  ]
}