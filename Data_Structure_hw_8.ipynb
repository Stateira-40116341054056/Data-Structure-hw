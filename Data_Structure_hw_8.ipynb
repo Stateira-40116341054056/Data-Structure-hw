{
  "nbformat": 4,
  "nbformat_minor": 0,
  "metadata": {
    "colab": {
      "provenance": []
    },
    "kernelspec": {
      "name": "python3",
      "display_name": "Python 3"
    },
    "language_info": {
      "name": "python"
    }
  },
  "cells": [
    {
      "cell_type": "code",
      "source": [
        "class BTnode:\n",
        "\n",
        "  def __init__(self, data, left = None, right = None):\n",
        "    self.data = data\n",
        "    self.right = right\n",
        "    self.left = left\n",
        "\n",
        "n = BTnode(1,BTnode(2),BTnode(3,None,BTnode(4)))\n",
        "\n",
        "\n",
        "class BTree:\n",
        "\n",
        "  def __init__(self, root = None):\n",
        "    self.root = root\n",
        "\n",
        "  # LNR order (in Order)\n",
        "  def inorder(self, root):\n",
        "    if root == None :\n",
        "      return\n",
        "    else:\n",
        "      self.inorder(root.left)\n",
        "      print(root.data)\n",
        "      self.inorder(root.right)\n",
        "\n",
        "  # LRN order (post Order)\n",
        "  def postorder(self, root):\n",
        "    if root == None :\n",
        "      return\n",
        "    else:\n",
        "      self.postorder(root.left)\n",
        "      self.postorder(root.right)\n",
        "      print(root.data)\n",
        "\n",
        "   # NLR order (pre Order)\n",
        "  def preorder(self, root):\n",
        "    if root == None :\n",
        "      return\n",
        "    else:\n",
        "      print(root.data)\n",
        "      self.preorder(root.left)\n",
        "      self.preorder(root.right)\n",
        "\n",
        "\n",
        "\n",
        "\n",
        "\n",
        "tree = BTnode(1,BTnode(2,BTnode(4),BTnode(5)),BTnode(3))\n",
        "\n",
        "tree1 = BTree()\n",
        "\n",
        "print('inorder:')\n",
        "tree1.inorder(tree)\n",
        "\n",
        "print('postorder:')\n",
        "tree1.postorder(tree)\n",
        "\n",
        "print('preorder:')\n",
        "tree1.preorder(tree)"
      ],
      "metadata": {
        "colab": {
          "base_uri": "https://localhost:8080/"
        },
        "id": "_NFjKB3HSLNh",
        "outputId": "40d6d605-4c12-45f4-c3bd-c63f3bc372ba"
      },
      "execution_count": null,
      "outputs": [
        {
          "output_type": "stream",
          "name": "stdout",
          "text": [
            "inorder:\n",
            "4\n",
            "2\n",
            "5\n",
            "1\n",
            "3\n",
            "postorder:\n",
            "4\n",
            "5\n",
            "2\n",
            "3\n",
            "1\n",
            "preorder:\n",
            "1\n",
            "2\n",
            "4\n",
            "5\n",
            "3\n"
          ]
        }
      ]
    }
  ]
}